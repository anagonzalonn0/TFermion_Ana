{
 "cells": [
  {
   "cell_type": "markdown",
   "id": "002df8bf",
   "metadata": {},
   "source": [
    "### Beginning of the code implementation for the Double Factorization Qubitization method\n",
    "\n",
    "Based on the article https://journals.aps.org/prresearch/pdf/10.1103/PhysRevResearch.3.033055, which describes the second factorization qubitization method.\n"
   ]
  },
  {
   "cell_type": "code",
   "execution_count": 13,
   "id": "5371d231",
   "metadata": {},
   "outputs": [],
   "source": [
    "import math\n",
    "import sympy\n",
    "import numpy as np\n",
    "from scipy.special import binom\n",
    "import scipy"
   ]
  },
  {
   "cell_type": "code",
   "execution_count": null,
   "id": "73945af6",
   "metadata": {},
   "outputs": [],
   "source": [
    "class Qubitization_Double_Factorization:\n",
    "    def __init__(self, tools):\n",
    "\n",
    "        self.tools = tools\n",
    "\n",
    "    # Qubitization (PhysRevResearch.3.033055)\n",
    "        \"\"\"\n",
    "        We are going to calculate the cost of qubitization based on the number of Toffoli gates required.\n",
    "        The cost is estimated based on the number of eigenvectors in the double factorization, the number of orbitals,\n",
    "        the target precision, and the ancilla control parameter.\n",
    "        \"\"\"\n",
    "    def estimate_beta(self, N, epsilon):\n",
    "        \"\"\"\n",
    "        Calculation of beta as base-2 logarithm.\n",
    "        Quantifies how many ancillary qubits are needed to represent indices or errors with sufficient precision.\n",
    "        Expression that appears in the text before equation (20).\n",
    "        \"\"\"\n",
    "        #return math.ceil(5.652 + np.log2(N / epsilon))\n",
    "        return self.tools.ceil(5.652 + self.tools.log2(N / epsilon))\n",
    "\n",
    "    def toffoli_gate_cost(self, M, N, epsilon, alpha_df, lambda_=2):\n",
    "        \"\"\"\n",
    "        Estimate the number of Toffoli gates required for qubitization with a doubly-factorized representation.\n",
    "\n",
    "        Parameters\n",
    "        ----------\n",
    "        M (int):  Number of eigenvectors in the double factorization.\n",
    "        N (int): Number of orbitals.\n",
    "        epsilon (float): Target precision (in Hartree).\n",
    "        lambda_ (float):Ancilla control parameter (typical value: 1–5).\n",
    "        alpha_df (float): Normalization constant.\n",
    "        epsilon (float): Target precision (in Hartree).\n",
    "        c_w (int): Cost of the walk operator (typically proportional to the number of terms L).\n",
    "\n",
    "        Returns\n",
    "        -------\n",
    "        cW (int): Cost in number of Toffoli gates.\n",
    "        \"\"\"\n",
    "        # Approximation of equation (19):\n",
    "        return (2 * M * (1 + lambda_) + 2 * lambda_ * N * self.estimate_beta(N, epsilon) + 8 * N * self.estimate_beta(N, epsilon) + 4 * N) * np.pi * alpha_df / (2*epsilon)  "
   ]
  },
  {
   "cell_type": "code",
   "execution_count": 26,
   "id": "4708ad49",
   "metadata": {},
   "outputs": [
    {
     "name": "stdout",
     "output_type": "stream",
     "text": [
      "Estimated Beta: 22.0\n",
      "Estimated cost in Toffoli gates: 16.85 × 10¹⁰\n"
     ]
    }
   ],
   "source": [
    "#Example based on Table I of the article (structure VIII)\n",
    "M = 39088       # number of eigenvectors\n",
    "N = 65          # number of orbitals\n",
    "epsilon = 1e-3  # precision of 1 mHartree\n",
    "lambda_ = 2   # ancillas\n",
    "alpha_df= 425.7  # normalization constant \n",
    "\n",
    "qb = Qubitization_Double_Factorization(tools=np)\n",
    "cost = qb.toffoli_gate_cost(M, N, epsilon, alpha_df, lambda_)\n",
    "print(f\"Estimated Beta: {qb.estimate_beta(N, epsilon)}\")\n",
    "print(f\"Estimated cost in Toffoli gates: {cost / 1e10:.2f} × 10¹⁰\")\n",
    "\n"
   ]
  }
 ],
 "metadata": {
  "kernelspec": {
   "display_name": "Python (TFM_Linux)",
   "language": "python",
   "name": "tfm"
  },
  "language_info": {
   "codemirror_mode": {
    "name": "ipython",
    "version": 3
   },
   "file_extension": ".py",
   "mimetype": "text/x-python",
   "name": "python",
   "nbconvert_exporter": "python",
   "pygments_lexer": "ipython3",
   "version": "3.10.16"
  }
 },
 "nbformat": 4,
 "nbformat_minor": 5
}
